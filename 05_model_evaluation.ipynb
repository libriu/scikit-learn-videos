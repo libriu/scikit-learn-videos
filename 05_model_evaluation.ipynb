{
  "cells": [
    {
      "cell_type": "markdown",
      "metadata": {
        "id": "view-in-github",
        "colab_type": "text"
      },
      "source": [
        "<a href=\"https://colab.research.google.com/github/libriu/scikit-learn-videos/blob/master/05_model_evaluation.ipynb\" target=\"_parent\"><img src=\"https://colab.research.google.com/assets/colab-badge.svg\" alt=\"Open In Colab\"/></a>"
      ]
    },
    {
      "cell_type": "markdown",
      "metadata": {
        "id": "JYnyER-VX1l5"
      },
      "source": [
        "# Comparing Machine Learning models in scikit-learn ([video #5](https://www.youtube.com/watch?v=0pP4EwWJgIU&list=PL5-da3qGB5ICeMbQuqbbCOQWcS6OYBr5A&index=5))\n",
        "\n",
        "Created by [Data School](https://www.dataschool.io). Watch all 10 videos on [YouTube](https://www.youtube.com/playlist?list=PL5-da3qGB5ICeMbQuqbbCOQWcS6OYBr5A). Download the notebooks from [GitHub](https://github.com/justmarkham/scikit-learn-videos).\n",
        "\n",
        "**Note:** This notebook uses Python 3.9.1 and scikit-learn 0.23.2. The original notebook (shown in the video) used Python 2.7 and scikit-learn 0.16."
      ]
    },
    {
      "cell_type": "markdown",
      "metadata": {
        "id": "syUQTy7oX1l_"
      },
      "source": [
        "## Agenda\n",
        "\n",
        "- How do I choose **which model to use** for my supervised learning task?\n",
        "- How do I choose the **best tuning parameters** for that model?\n",
        "- How do I estimate the **likely performance of my model** on out-of-sample data?"
      ]
    },
    {
      "cell_type": "markdown",
      "metadata": {
        "id": "X4hYGmKzX1mA"
      },
      "source": [
        "## Review\n",
        "\n",
        "- Classification task: Predicting the species of an unknown iris\n",
        "- Used three classification models: KNN (K=1), KNN (K=5), logistic regression\n",
        "- Need a way to choose between the models\n",
        "\n",
        "**Solution:** Model evaluation procedures"
      ]
    },
    {
      "cell_type": "markdown",
      "metadata": {
        "id": "s0r4-0p6X1mB"
      },
      "source": [
        "## Evaluation procedure #1: Train and test on the entire dataset"
      ]
    },
    {
      "cell_type": "markdown",
      "metadata": {
        "id": "GhXD96SPX1mB"
      },
      "source": [
        "1. Train the model on the **entire dataset**.\n",
        "2. Test the model on the **same dataset**, and evaluate how well we did by comparing the **predicted** response values with the **true** response values."
      ]
    },
    {
      "cell_type": "code",
      "execution_count": 1,
      "metadata": {
        "id": "IQmaaBmhX1mC"
      },
      "outputs": [],
      "source": [
        "# added empty cell so that the cell numbering matches the video"
      ]
    },
    {
      "cell_type": "code",
      "execution_count": 2,
      "metadata": {
        "id": "BDRNmmd_X1mE"
      },
      "outputs": [],
      "source": [
        "# read in the iris data\n",
        "from sklearn.datasets import load_iris\n",
        "iris = load_iris()\n",
        "\n",
        "# create X (features) and y (response)\n",
        "X = iris.data\n",
        "y = iris.target"
      ]
    },
    {
      "cell_type": "markdown",
      "metadata": {
        "id": "qxGIt9eDX1mF"
      },
      "source": [
        "### Logistic regression"
      ]
    },
    {
      "cell_type": "code",
      "execution_count": 3,
      "metadata": {
        "id": "US7RJ4EUX1mF",
        "outputId": "f5cefdbd-9b87-4481-fd92-9c16f09c03d2",
        "colab": {
          "base_uri": "https://localhost:8080/"
        }
      },
      "outputs": [
        {
          "output_type": "execute_result",
          "data": {
            "text/plain": [
              "array([0, 0, 0, 0, 0, 0, 0, 0, 0, 0, 0, 0, 0, 0, 0, 0, 0, 0, 0, 0, 0, 0,\n",
              "       0, 0, 0, 0, 0, 0, 0, 0, 0, 0, 0, 0, 0, 0, 0, 0, 0, 0, 0, 0, 0, 0,\n",
              "       0, 0, 0, 0, 0, 0, 1, 1, 1, 1, 1, 1, 1, 1, 1, 1, 1, 1, 1, 1, 1, 1,\n",
              "       2, 1, 1, 1, 2, 1, 1, 1, 1, 1, 1, 1, 1, 1, 1, 1, 1, 2, 2, 2, 1, 1,\n",
              "       1, 1, 1, 1, 1, 1, 1, 1, 1, 1, 1, 1, 2, 2, 2, 2, 2, 2, 2, 2, 2, 2,\n",
              "       2, 2, 2, 2, 2, 2, 2, 2, 2, 2, 2, 2, 2, 2, 2, 2, 2, 2, 2, 1, 2, 2,\n",
              "       2, 2, 2, 2, 2, 2, 2, 2, 2, 2, 2, 2, 2, 2, 2, 2, 2, 2])"
            ]
          },
          "metadata": {},
          "execution_count": 3
        }
      ],
      "source": [
        "# import the class\n",
        "from sklearn.linear_model import LogisticRegression\n",
        "\n",
        "# instantiate the model\n",
        "logreg = LogisticRegression(solver='liblinear')\n",
        "\n",
        "# fit the model with data\n",
        "logreg.fit(X, y)\n",
        "\n",
        "# predict the response values for the observations in X\n",
        "logreg.predict(X)"
      ]
    },
    {
      "cell_type": "code",
      "execution_count": 4,
      "metadata": {
        "id": "aTvRdkW2X1mH",
        "outputId": "acdbe2c4-2405-436b-b659-5c0464a5ca3b",
        "colab": {
          "base_uri": "https://localhost:8080/"
        }
      },
      "outputs": [
        {
          "output_type": "execute_result",
          "data": {
            "text/plain": [
              "150"
            ]
          },
          "metadata": {},
          "execution_count": 4
        }
      ],
      "source": [
        "# store the predicted response values\n",
        "y_pred = logreg.predict(X)\n",
        "\n",
        "# check how many predictions were generated\n",
        "len(y_pred)"
      ]
    },
    {
      "cell_type": "markdown",
      "metadata": {
        "id": "2So8pF9PX1mH"
      },
      "source": [
        "Classification accuracy:\n",
        "\n",
        "- **Proportion** of correct predictions\n",
        "- Common **evaluation metric** for classification problems"
      ]
    },
    {
      "cell_type": "code",
      "execution_count": 5,
      "metadata": {
        "id": "G7eoDw85X1mI",
        "outputId": "0f11c2b5-26a6-496c-c309-d98db4116fd3",
        "colab": {
          "base_uri": "https://localhost:8080/"
        }
      },
      "outputs": [
        {
          "output_type": "stream",
          "name": "stdout",
          "text": [
            "0.96\n"
          ]
        }
      ],
      "source": [
        "# compute classification accuracy for the logistic regression model\n",
        "from sklearn import metrics\n",
        "print(metrics.accuracy_score(y, y_pred))"
      ]
    },
    {
      "cell_type": "markdown",
      "metadata": {
        "id": "9tzpM9QwX1mI"
      },
      "source": [
        "- Known as **training accuracy** when you train and test the model on the same data"
      ]
    },
    {
      "cell_type": "markdown",
      "metadata": {
        "id": "XVW2wZ8AX1mI"
      },
      "source": [
        "### KNN (K=5)"
      ]
    },
    {
      "cell_type": "code",
      "execution_count": 6,
      "metadata": {
        "id": "z2M0RlCxX1mJ",
        "outputId": "5dcdcfc9-d5df-49ec-b0ba-81191eb746ba",
        "colab": {
          "base_uri": "https://localhost:8080/"
        }
      },
      "outputs": [
        {
          "output_type": "stream",
          "name": "stdout",
          "text": [
            "0.9666666666666667\n"
          ]
        }
      ],
      "source": [
        "from sklearn.neighbors import KNeighborsClassifier\n",
        "knn = KNeighborsClassifier(n_neighbors=5)\n",
        "knn.fit(X, y)\n",
        "y_pred = knn.predict(X)\n",
        "print(metrics.accuracy_score(y, y_pred))"
      ]
    },
    {
      "cell_type": "markdown",
      "metadata": {
        "id": "XieYfBklX1mJ"
      },
      "source": [
        "### KNN (K=1)"
      ]
    },
    {
      "cell_type": "code",
      "execution_count": 7,
      "metadata": {
        "id": "h0mLKNBBX1mJ",
        "outputId": "b64bc822-21ab-40e3-a81b-96d1e28b9d01",
        "colab": {
          "base_uri": "https://localhost:8080/"
        }
      },
      "outputs": [
        {
          "output_type": "stream",
          "name": "stdout",
          "text": [
            "1.0\n"
          ]
        }
      ],
      "source": [
        "knn = KNeighborsClassifier(n_neighbors=1)\n",
        "knn.fit(X, y)\n",
        "y_pred = knn.predict(X)\n",
        "print(metrics.accuracy_score(y, y_pred))"
      ]
    },
    {
      "cell_type": "markdown",
      "metadata": {
        "id": "GI2kRrKSX1mJ"
      },
      "source": [
        "### Problems with training and testing on the same data\n",
        "\n",
        "- Goal is to estimate likely performance of a model on **out-of-sample data**\n",
        "- But, maximizing training accuracy rewards **overly complex models** that won't necessarily generalize\n",
        "- Unnecessarily complex models **overfit** the training data"
      ]
    },
    {
      "cell_type": "markdown",
      "metadata": {
        "id": "EAAWtHy8X1mK"
      },
      "source": [
        "![Overfitting](https://github.com/libriu/scikit-learn-videos/blob/master/images/05_overfitting.png?raw=1)"
      ]
    },
    {
      "cell_type": "markdown",
      "metadata": {
        "id": "xN_6dDb_X1mK"
      },
      "source": [
        "*Image Credit: [Overfitting](https://commons.wikimedia.org/wiki/File:Overfitting.svg#/media/File:Overfitting.svg) by Chabacano. Licensed under GFDL via Wikimedia Commons.*"
      ]
    },
    {
      "cell_type": "markdown",
      "metadata": {
        "id": "o2TNOk2xX1mK"
      },
      "source": [
        "## Evaluation procedure #2: Train/test split"
      ]
    },
    {
      "cell_type": "markdown",
      "metadata": {
        "id": "EuZDvV_pX1mL"
      },
      "source": [
        "1. Split the dataset into two pieces: a **training set** and a **testing set**.\n",
        "2. Train the model on the **training set**.\n",
        "3. Test the model on the **testing set**, and evaluate how well we did."
      ]
    },
    {
      "cell_type": "code",
      "execution_count": 8,
      "metadata": {
        "id": "_ZNmJcCaX1mL",
        "outputId": "91e641b3-0e17-4f92-95e5-bb95bc1b786d",
        "colab": {
          "base_uri": "https://localhost:8080/"
        }
      },
      "outputs": [
        {
          "output_type": "stream",
          "name": "stdout",
          "text": [
            "(150, 4)\n",
            "(150,)\n"
          ]
        }
      ],
      "source": [
        "# print the shapes of X and y\n",
        "print(X.shape)\n",
        "print(y.shape)"
      ]
    },
    {
      "cell_type": "code",
      "execution_count": 9,
      "metadata": {
        "id": "IBfqY6xIX1mL"
      },
      "outputs": [],
      "source": [
        "# STEP 1: split X and y into training and testing sets\n",
        "from sklearn.model_selection import train_test_split\n",
        "X_train, X_test, y_train, y_test = train_test_split(X, y, test_size=0.4, random_state=4)"
      ]
    },
    {
      "cell_type": "markdown",
      "metadata": {
        "id": "0UOr862JX1mM"
      },
      "source": [
        "![Train/test split](https://github.com/libriu/scikit-learn-videos/blob/master/images/05_train_test_split.png?raw=1)"
      ]
    },
    {
      "cell_type": "markdown",
      "metadata": {
        "id": "GHVHiSrXX1mM"
      },
      "source": [
        "What did this accomplish?\n",
        "\n",
        "- Model can be trained and tested on **different data**\n",
        "- Response values are known for the testing set, and thus **predictions can be evaluated**\n",
        "- **Testing accuracy** is a better estimate than training accuracy of out-of-sample performance"
      ]
    },
    {
      "cell_type": "code",
      "execution_count": 10,
      "metadata": {
        "id": "oGb4zk_kX1mM"
      },
      "outputs": [],
      "source": [
        "# added empty cell so that the cell numbering matches the video"
      ]
    },
    {
      "cell_type": "code",
      "execution_count": 11,
      "metadata": {
        "id": "5hty49KTX1mM",
        "outputId": "cf309787-076f-4ea0-ed39-477ec114cc54",
        "colab": {
          "base_uri": "https://localhost:8080/"
        }
      },
      "outputs": [
        {
          "output_type": "stream",
          "name": "stdout",
          "text": [
            "(90, 4)\n",
            "(60, 4)\n"
          ]
        }
      ],
      "source": [
        "# print the shapes of the new X objects\n",
        "print(X_train.shape)\n",
        "print(X_test.shape)"
      ]
    },
    {
      "cell_type": "code",
      "execution_count": 12,
      "metadata": {
        "id": "f9w3gb7AX1mN",
        "outputId": "9e5f5943-285d-4a2b-d04d-015d0c11e38e",
        "colab": {
          "base_uri": "https://localhost:8080/"
        }
      },
      "outputs": [
        {
          "output_type": "stream",
          "name": "stdout",
          "text": [
            "(90,)\n",
            "(60,)\n"
          ]
        }
      ],
      "source": [
        "# print the shapes of the new y objects\n",
        "print(y_train.shape)\n",
        "print(y_test.shape)"
      ]
    },
    {
      "cell_type": "code",
      "execution_count": 13,
      "metadata": {
        "id": "ha3x9fS3X1mN",
        "outputId": "c5cbfada-1253-4c7c-cd0a-2a826cf4d945",
        "colab": {
          "base_uri": "https://localhost:8080/"
        }
      },
      "outputs": [
        {
          "output_type": "execute_result",
          "data": {
            "text/plain": [
              "LogisticRegression(solver='liblinear')"
            ]
          },
          "metadata": {},
          "execution_count": 13
        }
      ],
      "source": [
        "# STEP 2: train the model on the training set\n",
        "logreg = LogisticRegression(solver='liblinear')\n",
        "logreg.fit(X_train, y_train)"
      ]
    },
    {
      "cell_type": "code",
      "execution_count": 14,
      "metadata": {
        "id": "GZNlbUzzX1mN",
        "outputId": "da761ea6-7d5c-4636-d8df-9d58b88cb8a6",
        "colab": {
          "base_uri": "https://localhost:8080/"
        }
      },
      "outputs": [
        {
          "output_type": "stream",
          "name": "stdout",
          "text": [
            "0.9333333333333333\n"
          ]
        }
      ],
      "source": [
        "# STEP 3: make predictions on the testing set\n",
        "y_pred = logreg.predict(X_test)\n",
        "\n",
        "# compare actual response values (y_test) with predicted response values (y_pred)\n",
        "print(metrics.accuracy_score(y_test, y_pred))"
      ]
    },
    {
      "cell_type": "markdown",
      "metadata": {
        "id": "3GonUnEcX1mO"
      },
      "source": [
        "Repeat for KNN with K=5:"
      ]
    },
    {
      "cell_type": "code",
      "execution_count": 15,
      "metadata": {
        "id": "3LR1iQKYX1mO",
        "outputId": "5948537f-c4d6-485e-f0f5-bba75cadabe0",
        "colab": {
          "base_uri": "https://localhost:8080/"
        }
      },
      "outputs": [
        {
          "output_type": "stream",
          "name": "stdout",
          "text": [
            "0.9666666666666667\n"
          ]
        }
      ],
      "source": [
        "knn = KNeighborsClassifier(n_neighbors=5)\n",
        "knn.fit(X_train, y_train)\n",
        "y_pred = knn.predict(X_test)\n",
        "print(metrics.accuracy_score(y_test, y_pred))"
      ]
    },
    {
      "cell_type": "markdown",
      "metadata": {
        "id": "VLwAXPjqX1mO"
      },
      "source": [
        "Repeat for KNN with K=1:"
      ]
    },
    {
      "cell_type": "code",
      "execution_count": 16,
      "metadata": {
        "id": "S_pymT4ZX1mO",
        "outputId": "cbb56853-24b5-4370-833d-96a9012e95d2",
        "colab": {
          "base_uri": "https://localhost:8080/"
        }
      },
      "outputs": [
        {
          "output_type": "stream",
          "name": "stdout",
          "text": [
            "0.95\n"
          ]
        }
      ],
      "source": [
        "knn = KNeighborsClassifier(n_neighbors=1)\n",
        "knn.fit(X_train, y_train)\n",
        "y_pred = knn.predict(X_test)\n",
        "print(metrics.accuracy_score(y_test, y_pred))"
      ]
    },
    {
      "cell_type": "markdown",
      "metadata": {
        "id": "xCpwoKThX1mO"
      },
      "source": [
        "Can we locate an even better value for K?"
      ]
    },
    {
      "cell_type": "code",
      "execution_count": 17,
      "metadata": {
        "id": "RMwbtd5KX1mP"
      },
      "outputs": [],
      "source": [
        "# try K=1 through K=25 and record testing accuracy\n",
        "k_range = list(range(1, 26))\n",
        "scores = []\n",
        "for k in k_range:\n",
        "    knn = KNeighborsClassifier(n_neighbors=k)\n",
        "    knn.fit(X_train, y_train)\n",
        "    y_pred = knn.predict(X_test)\n",
        "    scores.append(metrics.accuracy_score(y_test, y_pred))"
      ]
    },
    {
      "cell_type": "code",
      "execution_count": 18,
      "metadata": {
        "id": "VBHhhYMvX1mP",
        "outputId": "f587d594-af56-43a0-be36-e540f0ee4146",
        "colab": {
          "base_uri": "https://localhost:8080/",
          "height": 300
        }
      },
      "outputs": [
        {
          "output_type": "execute_result",
          "data": {
            "text/plain": [
              "Text(0, 0.5, 'Testing Accuracy')"
            ]
          },
          "metadata": {},
          "execution_count": 18
        },
        {
          "output_type": "display_data",
          "data": {
            "text/plain": [
              "<Figure size 432x288 with 1 Axes>"
            ],
            "image/png": "[encoded data removed]"
          },
          "metadata": {
            "needs_background": "light"
          }
        }
      ],
      "source": [
        "# import Matplotlib (scientific plotting library)\n",
        "import matplotlib.pyplot as plt\n",
        "\n",
        "# allow plots to appear within the notebook\n",
        "%matplotlib inline\n",
        "\n",
        "# plot the relationship between K and testing accuracy\n",
        "plt.plot(k_range, scores)\n",
        "plt.xlabel('Value of K for KNN')\n",
        "plt.ylabel('Testing Accuracy')"
      ]
    },
    {
      "cell_type": "markdown",
      "metadata": {
        "id": "j3tFIYHQX1mP"
      },
      "source": [
        "- **Training accuracy** rises as model complexity increases\n",
        "- **Testing accuracy** penalizes models that are too complex or not complex enough\n",
        "- For KNN models, complexity is determined by the **value of K** (lower value = more complex)"
      ]
    },
    {
      "cell_type": "markdown",
      "metadata": {
        "id": "rWEAz_h3X1mP"
      },
      "source": [
        "## Making predictions on out-of-sample data"
      ]
    },
    {
      "cell_type": "code",
      "execution_count": 19,
      "metadata": {
        "id": "D_zAE4uHX1mP",
        "outputId": "ee7b023a-b489-4b4b-e581-5b9d27cd71c1",
        "colab": {
          "base_uri": "https://localhost:8080/"
        }
      },
      "outputs": [
        {
          "output_type": "execute_result",
          "data": {
            "text/plain": [
              "array([1])"
            ]
          },
          "metadata": {},
          "execution_count": 19
        }
      ],
      "source": [
        "# instantiate the model with the best known parameters\n",
        "knn = KNeighborsClassifier(n_neighbors=11)\n",
        "\n",
        "# train the model with X and y (not X_train and y_train)\n",
        "knn.fit(X, y)\n",
        "\n",
        "# make a prediction for an out-of-sample observation\n",
        "knn.predict([[3, 5, 4, 2]])"
      ]
    },
    {
      "cell_type": "markdown",
      "metadata": {
        "id": "EL39J7L6X1mQ"
      },
      "source": [
        "## Downsides of train/test split?"
      ]
    },
    {
      "cell_type": "markdown",
      "metadata": {
        "id": "P-kWodFvX1mQ"
      },
      "source": [
        "- Provides a **high-variance estimate** of out-of-sample accuracy\n",
        "- **K-fold cross-validation** overcomes this limitation\n",
        "- But, train/test split is still useful because of its **flexibility and speed**"
      ]
    },
    {
      "cell_type": "markdown",
      "metadata": {
        "id": "OS3oX0n-X1mQ"
      },
      "source": [
        "## Resources\n",
        "\n",
        "- Quora: [What is an intuitive explanation of overfitting?](https://www.quora.com/What-is-an-intuitive-explanation-of-over-fitting-particularly-with-a-small-sample-set-What-are-you-essentially-doing-by-over-fitting-How-does-the-over-promise-of-a-high-R%C2%B2-low-standard-error-occur/answer/Jessica-Su)\n",
        "- Video: [Estimating prediction error](https://www.youtube.com/watch?v=ngrOYWgJjb4&list=PL5-da3qGB5IA6E6ZNXu7dp89_uv8yocmf&index=1&t=154s) (12 minutes, starting at 2:34) by Hastie and Tibshirani\n",
        "- [Understanding the Bias-Variance Tradeoff](http://scott.fortmann-roe.com/docs/BiasVariance.html)\n",
        "    - [Guiding questions](https://github.com/justmarkham/DAT8/blob/master/homework/09_bias_variance.md) when reading this article\n",
        "- Video: [Visualizing bias and variance](https://www.youtube.com/watch?v=zrEyxfl2-a8&t=1857s) (15 minutes, starting at 30:57) by Abu-Mostafa"
      ]
    },
    {
      "cell_type": "markdown",
      "metadata": {
        "id": "TrIOp0EgX1mQ"
      },
      "source": [
        "## Comments or Questions?\n",
        "\n",
        "- Email: <kevin@dataschool.io>\n",
        "- Website: https://www.dataschool.io\n",
        "- Twitter: [@justmarkham](https://twitter.com/justmarkham)\n",
        "\n",
        "© 2021 [Data School](https://www.dataschool.io). All rights reserved."
      ]
    },
    {
      "cell_type": "code",
      "source": [
        ""
      ],
      "metadata": {
        "id": "DPn0N6auYrMR"
      },
      "execution_count": 19,
      "outputs": []
    }
  ],
  "metadata": {
    "kernelspec": {
      "display_name": "Python 3",
      "language": "python",
      "name": "python3"
    },
    "language_info": {
      "codemirror_mode": {
        "name": "ipython",
        "version": 3
      },
      "file_extension": ".py",
      "mimetype": "text/x-python",
      "name": "python",
      "nbconvert_exporter": "python",
      "pygments_lexer": "ipython3",
      "version": "3.9.4"
    },
    "colab": {
      "name": "05_model_evaluation.ipynb",
      "provenance": [],
      "include_colab_link": true
    }
  },
  "nbformat": 4,
  "nbformat_minor": 0
}